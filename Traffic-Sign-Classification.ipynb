{
 "cells": [
  {
   "cell_type": "code",
   "execution_count": 2,
   "metadata": {},
   "outputs": [],
   "source": [
    "import numpy as np \n",
    "import pandas as pd \n",
    "import matplotlib.pyplot as plt\n",
    "import cv2\n",
    "import tensorflow as tf\n",
    "from PIL import Image\n",
    "import os\n",
    "from sklearn.model_selection import train_test_split\n",
    "from keras.models import Sequential, load_model\n",
    "from keras.layers import Conv2D, MaxPool2D, Dense, Flatten, Dropout"
   ]
  },
  {
   "cell_type": "code",
   "execution_count": 7,
   "metadata": {},
   "outputs": [],
   "source": [
    "data = []\n",
    "labels = []\n",
    "classes = 43\n",
    "cur_path = 'C:/Users/Anjil Adhikari/Downloads/Python-Project-Traffic-Sign-Classification'\n",
    "\n",
    "#Retrieving the images and their labels \n",
    "for i in range(classes):\n",
    "    path = os.path.join(cur_path,'train',str(i))\n",
    "    images = os.listdir(path)\n",
    "\n",
    "    for a in images:\n",
    "        try:\n",
    "            image = Image.open(path + '\\\\'+ a)\n",
    "            image = image.resize((30,30))\n",
    "            image = np.array(image)\n",
    "            #sim = Image.fromarray(image)\n",
    "            data.append(image)\n",
    "            labels.append(i)\n",
    "        except:\n",
    "            print(\"Error loading image\")\n",
    "\n",
    "#Converting lists into numpy arrays\n",
    "data = np.array(data)\n",
    "labels = np.array(labels)"
   ]
  },
  {
   "cell_type": "code",
   "execution_count": 8,
   "metadata": {},
   "outputs": [
    {
     "name": "stdout",
     "output_type": "stream",
     "text": [
      "(39209, 30, 30, 3) (39209,)\n",
      "(31367, 30, 30, 3) (7842, 30, 30, 3) (31367,) (7842,)\n"
     ]
    }
   ],
   "source": [
    "print(data.shape, labels.shape)\n",
    "#Splitting training and testing dataset\n",
    "X_train, X_test, y_train, y_test = train_test_split(data, labels, test_size=0.2, random_state=42)\n",
    "\n",
    "print(X_train.shape, X_test.shape, y_train.shape, y_test.shape)\n",
    "\n",
    "#Converting the labels into one hot encoding\n",
    "y_train = to_categorical(y_train, 43)\n",
    "y_test = to_categorical(y_test, 43)"
   ]
  },
  {
   "cell_type": "code",
   "execution_count": 9,
   "metadata": {},
   "outputs": [],
   "source": [
    "#Building the model\n",
    "model = Sequential()\n",
    "model.add(Conv2D(filters=32, kernel_size=(5,5), activation='relu', input_shape=X_train.shape[1:]))\n",
    "model.add(Conv2D(filters=32, kernel_size=(5,5), activation='relu'))\n",
    "model.add(MaxPool2D(pool_size=(2, 2)))\n",
    "model.add(Dropout(rate=0.25))\n",
    "model.add(Conv2D(filters=64, kernel_size=(3, 3), activation='relu'))\n",
    "model.add(Conv2D(filters=64, kernel_size=(3, 3), activation='relu'))\n",
    "model.add(MaxPool2D(pool_size=(2, 2)))\n",
    "model.add(Dropout(rate=0.25))\n",
    "model.add(Flatten())\n",
    "model.add(Dense(256, activation='relu'))\n",
    "model.add(Dropout(rate=0.5))\n",
    "model.add(Dense(43, activation='softmax'))\n",
    "\n",
    "#Compilation of the model\n",
    "model.compile(loss='categorical_crossentropy', optimizer='adam', metrics=['accuracy'])"
   ]
  },
  {
   "cell_type": "code",
   "execution_count": 11,
   "metadata": {},
   "outputs": [
    {
     "name": "stdout",
     "output_type": "stream",
     "text": [
      "Epoch 1/15\n",
      "981/981 [==============================] - 121s 117ms/step - loss: 2.1530 - accuracy: 0.4508 - val_loss: 0.7727 - val_accuracy: 0.8264\n",
      "Epoch 2/15\n",
      "981/981 [==============================] - 116s 118ms/step - loss: 0.9347 - accuracy: 0.7261 - val_loss: 0.4013 - val_accuracy: 0.8893\n",
      "Epoch 3/15\n",
      "981/981 [==============================] - 110s 112ms/step - loss: 0.7190 - accuracy: 0.7840 - val_loss: 0.3055 - val_accuracy: 0.9157\n",
      "Epoch 4/15\n",
      "981/981 [==============================] - 108s 110ms/step - loss: 0.6047 - accuracy: 0.8152 - val_loss: 0.2258 - val_accuracy: 0.9378\n",
      "Epoch 5/15\n",
      "981/981 [==============================] - 110s 112ms/step - loss: 0.5610 - accuracy: 0.8310 - val_loss: 0.1830 - val_accuracy: 0.9458\n",
      "Epoch 6/15\n",
      "981/981 [==============================] - 109s 111ms/step - loss: 0.5186 - accuracy: 0.8424 - val_loss: 0.2045 - val_accuracy: 0.9436\n",
      "Epoch 7/15\n",
      "981/981 [==============================] - 109s 111ms/step - loss: 0.4771 - accuracy: 0.8548 - val_loss: 0.1716 - val_accuracy: 0.9510\n",
      "Epoch 8/15\n",
      "981/981 [==============================] - 110s 112ms/step - loss: 0.4594 - accuracy: 0.8616 - val_loss: 0.1815 - val_accuracy: 0.9491\n",
      "Epoch 9/15\n",
      "981/981 [==============================] - 108s 110ms/step - loss: 0.4483 - accuracy: 0.8646 - val_loss: 0.1306 - val_accuracy: 0.9615\n",
      "Epoch 10/15\n",
      "981/981 [==============================] - 109s 111ms/step - loss: 0.4279 - accuracy: 0.8704 - val_loss: 0.1290 - val_accuracy: 0.9651\n",
      "Epoch 11/15\n",
      "981/981 [==============================] - 111s 113ms/step - loss: 0.3915 - accuracy: 0.8807 - val_loss: 0.1582 - val_accuracy: 0.9527\n",
      "Epoch 12/15\n",
      "981/981 [==============================] - 118s 120ms/step - loss: 0.3991 - accuracy: 0.8810 - val_loss: 0.1286 - val_accuracy: 0.9634\n",
      "Epoch 13/15\n",
      "981/981 [==============================] - 132s 135ms/step - loss: 0.3964 - accuracy: 0.8794 - val_loss: 0.1337 - val_accuracy: 0.9605\n",
      "Epoch 14/15\n",
      "981/981 [==============================] - 129s 132ms/step - loss: 0.3691 - accuracy: 0.8884 - val_loss: 0.1320 - val_accuracy: 0.9610\n",
      "Epoch 15/15\n",
      "981/981 [==============================] - 131s 134ms/step - loss: 0.3828 - accuracy: 0.8851 - val_loss: 0.1199 - val_accuracy: 0.9700\n"
     ]
    }
   ],
   "source": [
    "epochs = 15\n",
    "history = model.fit(X_train, y_train, batch_size=32, epochs=epochs, validation_data=(X_test, y_test))\n"
   ]
  },
  {
   "cell_type": "code",
   "execution_count": 13,
   "metadata": {},
   "outputs": [
    {
     "data": {
      "image/png": "[encoded data removed]",
      "text/plain": [
       "<Figure size 432x288 with 1 Axes>"
      ]
     },
     "metadata": {
      "needs_background": "light"
     },
     "output_type": "display_data"
    },
    {
     "data": {
      "image/png": "[encoded data removed]",
      "text/plain": [
       "<Figure size 432x288 with 1 Axes>"
      ]
     },
     "metadata": {
      "needs_background": "light"
     },
     "output_type": "display_data"
    }
   ],
   "source": [
    "#plotting graphs for accuracy \n",
    "plt.figure(0)\n",
    "plt.plot(history.history['accuracy'], label='training accuracy')\n",
    "plt.plot(history.history['val_accuracy'], label='val accuracy')\n",
    "plt.title('Accuracy')\n",
    "plt.xlabel('epochs')\n",
    "plt.ylabel('accuracy')\n",
    "plt.legend()\n",
    "plt.show()\n",
    "\n",
    "plt.figure(1)\n",
    "plt.plot(history.history['loss'], label='training loss')\n",
    "plt.plot(history.history['val_loss'], label='val loss')\n",
    "plt.title('Loss')\n",
    "plt.xlabel('epochs')\n",
    "plt.ylabel('loss')\n",
    "plt.legend()\n",
    "plt.show()"
   ]
  },
  {
   "cell_type": "code",
   "execution_count": 19,
   "metadata": {},
   "outputs": [],
   "source": [
    "model.save(\"my_model.h5\")"
   ]
  },
  {
   "cell_type": "code",
   "execution_count": null,
   "metadata": {},
   "outputs": [],
   "source": []
  }
 ],
 "metadata": {
  "kernelspec": {
   "display_name": "Python 3",
   "language": "python",
   "name": "python3"
  },
  "language_info": {
   "codemirror_mode": {
    "name": "ipython",
    "version": 3
   },
   "file_extension": ".py",
   "mimetype": "text/x-python",
   "name": "python",
   "nbconvert_exporter": "python",
   "pygments_lexer": "ipython3",
   "version": "3.8.5"
  }
 },
 "nbformat": 4,
 "nbformat_minor": 4
}
